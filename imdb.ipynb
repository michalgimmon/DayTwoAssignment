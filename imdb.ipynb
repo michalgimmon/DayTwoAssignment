{
 "cells": [
  {
   "cell_type": "markdown",
   "metadata": {},
   "source": [
    "## DayTwo - Data Science Home Assignment"
   ]
  },
  {
   "cell_type": "markdown",
   "metadata": {},
   "source": [
    "### load data set"
   ]
  },
  {
   "cell_type": "code",
   "execution_count": 122,
   "metadata": {
    "scrolled": true
   },
   "outputs": [
    {
     "data": {
      "text/html": [
       "<div>\n",
       "<style>\n",
       "    .dataframe thead tr:only-child th {\n",
       "        text-align: right;\n",
       "    }\n",
       "\n",
       "    .dataframe thead th {\n",
       "        text-align: left;\n",
       "    }\n",
       "\n",
       "    .dataframe tbody tr th {\n",
       "        vertical-align: top;\n",
       "    }\n",
       "</style>\n",
       "<table border=\"1\" class=\"dataframe\">\n",
       "  <thead>\n",
       "    <tr style=\"text-align: right;\">\n",
       "      <th></th>\n",
       "      <th>duration</th>\n",
       "      <th>num_voted_users</th>\n",
       "      <th>num_critic_for_reviews</th>\n",
       "      <th>movie_facebook_likes</th>\n",
       "      <th>imdb_score</th>\n",
       "      <th>budget</th>\n",
       "      <th>gross</th>\n",
       "      <th>title_year</th>\n",
       "      <th>director_name</th>\n",
       "      <th>movie_title</th>\n",
       "    </tr>\n",
       "  </thead>\n",
       "  <tbody>\n",
       "    <tr>\n",
       "      <th>0</th>\n",
       "      <td>178.0</td>\n",
       "      <td>886204.0</td>\n",
       "      <td>NaN</td>\n",
       "      <td>33000.0</td>\n",
       "      <td>7.9</td>\n",
       "      <td>NaN</td>\n",
       "      <td>760505847.0</td>\n",
       "      <td>2009.0</td>\n",
       "      <td>James Cameron</td>\n",
       "      <td>Avatar</td>\n",
       "    </tr>\n",
       "    <tr>\n",
       "      <th>1</th>\n",
       "      <td>169.0</td>\n",
       "      <td>471220.0</td>\n",
       "      <td>302.0</td>\n",
       "      <td>0.0</td>\n",
       "      <td>NaN</td>\n",
       "      <td>300000000.0</td>\n",
       "      <td>309404152.0</td>\n",
       "      <td>2007.0</td>\n",
       "      <td>Gore Verbinski</td>\n",
       "      <td>Pirates of the Caribbean: At World's End</td>\n",
       "    </tr>\n",
       "    <tr>\n",
       "      <th>2</th>\n",
       "      <td>148.0</td>\n",
       "      <td>275868.0</td>\n",
       "      <td>602.0</td>\n",
       "      <td>85000.0</td>\n",
       "      <td>6.8</td>\n",
       "      <td>NaN</td>\n",
       "      <td>200074175.0</td>\n",
       "      <td>2015.0</td>\n",
       "      <td>Sam Mendes</td>\n",
       "      <td>Spectre</td>\n",
       "    </tr>\n",
       "    <tr>\n",
       "      <th>3</th>\n",
       "      <td>164.0</td>\n",
       "      <td>1144337.0</td>\n",
       "      <td>813.0</td>\n",
       "      <td>164000.0</td>\n",
       "      <td>8.5</td>\n",
       "      <td>250000000.0</td>\n",
       "      <td>448130642.0</td>\n",
       "      <td>2012.0</td>\n",
       "      <td>Christopher Nolan</td>\n",
       "      <td>The Dark Knight Rises</td>\n",
       "    </tr>\n",
       "    <tr>\n",
       "      <th>4</th>\n",
       "      <td>NaN</td>\n",
       "      <td>8.0</td>\n",
       "      <td>NaN</td>\n",
       "      <td>0.0</td>\n",
       "      <td>7.1</td>\n",
       "      <td>NaN</td>\n",
       "      <td>NaN</td>\n",
       "      <td>NaN</td>\n",
       "      <td>Doug Walker</td>\n",
       "      <td>Star Wars: Episode VII - The Force Awakens    ...</td>\n",
       "    </tr>\n",
       "  </tbody>\n",
       "</table>\n",
       "</div>"
      ],
      "text/plain": [
       "   duration  num_voted_users  num_critic_for_reviews  movie_facebook_likes  \\\n",
       "0     178.0         886204.0                     NaN               33000.0   \n",
       "1     169.0         471220.0                   302.0                   0.0   \n",
       "2     148.0         275868.0                   602.0               85000.0   \n",
       "3     164.0        1144337.0                   813.0              164000.0   \n",
       "4       NaN              8.0                     NaN                   0.0   \n",
       "\n",
       "   imdb_score       budget        gross  title_year      director_name  \\\n",
       "0         7.9          NaN  760505847.0      2009.0      James Cameron   \n",
       "1         NaN  300000000.0  309404152.0      2007.0     Gore Verbinski   \n",
       "2         6.8          NaN  200074175.0      2015.0         Sam Mendes   \n",
       "3         8.5  250000000.0  448130642.0      2012.0  Christopher Nolan   \n",
       "4         7.1          NaN          NaN         NaN        Doug Walker   \n",
       "\n",
       "                                         movie_title  \n",
       "0                                            Avatar   \n",
       "1          Pirates of the Caribbean: At World's End   \n",
       "2                                           Spectre   \n",
       "3                             The Dark Knight Rises   \n",
       "4  Star Wars: Episode VII - The Force Awakens    ...  "
      ]
     },
     "execution_count": 122,
     "metadata": {},
     "output_type": "execute_result"
    }
   ],
   "source": [
    "import pandas\n",
    "data = pandas.read_csv(\"D:\\DayTwo_Exercise\\movie_metadata.csv\")\n",
    "data.head() # present 5 first rows (for convience), to view the data"
   ]
  },
  {
   "cell_type": "markdown",
   "metadata": {},
   "source": [
    "### Learn the data"
   ]
  },
  {
   "cell_type": "code",
   "execution_count": 123,
   "metadata": {},
   "outputs": [
    {
     "name": "stdout",
     "output_type": "stream",
     "text": [
      "# of movies= 5042\n",
      "# of movies without director data= 601\n",
      "# of directors= 2249\n"
     ]
    }
   ],
   "source": [
    "# amount of movies (sum rows, -1 for not including the heading)\n",
    "print( '# of movies= ' + repr( len(data)-1 ) )\n",
    "\n",
    "# amount of Nans in the director name\n",
    "df = pandas.DataFrame(data)\n",
    "print( '# of movies without director data= ' + repr( len(df[df.director_name.isnull()]) ) ) \n",
    "\n",
    "# amount of directors (sum set of directors, -1 for not including nan')\n",
    "uniqueDirectorName = set(df.director_name)\n",
    "print( '# of directors= ' + repr( len(uniqueDirectorName)-1 ) )"
   ]
  },
  {
   "cell_type": "code",
   "execution_count": 124,
   "metadata": {},
   "outputs": [
    {
     "name": "stdout",
     "output_type": "stream",
     "text": [
      "The director with the maximal # of movies (24.0) is: Steven Spielberg\n"
     ]
    }
   ],
   "source": [
    "# find the director of the maximal number of movies\n",
    "listDirectors = list(df.director_name)\n",
    "saveNumOfMovies=[]\n",
    "# find the number of times each uniqueDirectorName ([1:] to eliminate counting Nan director) is mentioned in listDirectors\n",
    "for item in list(uniqueDirectorName)[1:]:\n",
    "    temp = float( listDirectors.count(item) )\n",
    "    saveNumOfMovies.append(temp)\n",
    "\n",
    "# use numpy to easily find the maximal number of movies for a director \n",
    "import numpy    \n",
    "A = numpy.array(saveNumOfMovies)\n",
    "maxNumOfMovies = max(saveNumOfMovies)\n",
    "# find the indices with the maximal num of movies and the relevant director name\n",
    "maximum_indices = numpy.where(A==maxNumOfMovies)\n",
    "\n",
    "print( 'The director with the maximal # of movies (' + repr(maxNumOfMovies) + ') is: ' + list(uniqueDirectorName)[numpy.asscalar(numpy.array(maximum_indices))+1] )"
   ]
  },
  {
   "cell_type": "code",
   "execution_count": 5,
   "metadata": {},
   "outputs": [
    {
     "data": {
      "image/png": "[encoded data removed]",
      "text/plain": [
       "<matplotlib.figure.Figure at 0x1d5af5b9240>"
      ]
     },
     "metadata": {},
     "output_type": "display_data"
    }
   ],
   "source": [
    "# Plot a histogram of the number of movies per director, to understand how many directors have a high amount of movies \n",
    "import matplotlib.pyplot as plt\n",
    "\n",
    "plt.hist(saveNumOfMovies,bins=25) # 25 bins - 1(the minimal number) up to 24(the maximal # of movies per director)\n",
    "plt.title(\"# of movies per director histogram\")\n",
    "plt.ylabel(\"# of directors\")\n",
    "plt.xlabel(\"# of movies\")\n",
    "plt.grid(True) # present grid\n",
    "plt.show()"
   ]
  },
  {
   "cell_type": "markdown",
   "metadata": {},
   "source": [
    "### Analyze the data to find interesting insights"
   ]
  },
  {
   "cell_type": "markdown",
   "metadata": {},
   "source": [
    "Analyze the directors of 3 or more movies (significant directors), to see each director's averaged imdb score"
   ]
  },
  {
   "cell_type": "code",
   "execution_count": 125,
   "metadata": {
    "collapsed": true
   },
   "outputs": [],
   "source": [
    "# find the numbers which are higher than 3 \n",
    "moreThan3 = [x for x in saveNumOfMovies if x >= 3]\n",
    "# find the indexes of the the numbers which are higher than 3\n",
    "moreThan3_indexes = [index for index, x in enumerate(saveNumOfMovies) if x >= 3]\n",
    "# add 1 for all indexes, in order to later eliminate the 'nan' in uniqueDirectorName\n",
    "moreThan3_indexes = [x+1 for x in moreThan3_indexes]\n",
    "\n",
    "# find the directors' names having more than 3 movies\n",
    "saveDirectorMoreThan3 = []\n",
    "for item in moreThan3_indexes:\n",
    "    temp = (list(uniqueDirectorName)[item])\n",
    "    saveDirectorMoreThan3.append(temp)\n",
    "\n",
    "# find the mean imdb score of each director\n",
    "saveMeanImdb = []\n",
    "for item in saveDirectorMoreThan3:\n",
    "    temp = [i for i,x in enumerate(listDirectors) if x == item]\n",
    "    imdbsDirector = numpy.array(df.imdb_score[temp])\n",
    "    temp2 = numpy.NaN if numpy.all(imdbsDirector!=imdbsDirector) else numpy.nanmean(imdbsDirector) # avoid nans\n",
    "    saveMeanImdb.append(temp2)"
   ]
  },
  {
   "cell_type": "code",
   "execution_count": 126,
   "metadata": {},
   "outputs": [
    {
     "data": {
      "image/png": "[encoded data removed]",
      "text/plain": [
       "<matplotlib.figure.Figure at 0x1d5b254d588>"
      ]
     },
     "metadata": {},
     "output_type": "display_data"
    }
   ],
   "source": [
    "# plot the results\n",
    "plt.scatter(moreThan3,saveMeanImdb)\n",
    "plt.xticks(range(3,25))\n",
    "plt.title(\"Mean IMDB score as a function of # of movies per director\")\n",
    "plt.ylabel(\"Mean IMDB score\")\n",
    "plt.xlabel(\"# of movies per director\")\n",
    "plt.show()"
   ]
  },
  {
   "cell_type": "markdown",
   "metadata": {},
   "source": [
    "The 5 directors on the top right have the highest imdb score compared to the number of movies directed by them.\n",
    "Moreover, it is possible to see some correlation between the number of movies directed and the mean IMDB score. "
   ]
  },
  {
   "cell_type": "code",
   "execution_count": 127,
   "metadata": {},
   "outputs": [
    {
     "name": "stdout",
     "output_type": "stream",
     "text": [
      "The best directors are: \n",
      "['Steven Spielberg', 'Martin Scorsese', 'Woody Allen', 'Ridley Scott', 'Clint Eastwood']\n",
      "# of movies per director (respectively): \n",
      "[24.0, 16.0, 22.0, 16.0, 17.0]\n",
      "Mean IMDB score (respectively): \n",
      "[ 7.4   7.95  7.04  7.07  7.15]\n"
     ]
    }
   ],
   "source": [
    "# find the numbers which are higher than 15 \n",
    "moreThan15 = [x for x in saveNumOfMovies if x >= 15]\n",
    "# find the indexes of the the numbers which are higher than 15\n",
    "moreThan15_indexes = [index for index, x in enumerate(saveNumOfMovies) if x >= 15]\n",
    "# add 1 for all indexes, in order to later eliminate the 'nan' in uniqueDirectorName\n",
    "moreThan15_indexes = [x+1 for x in moreThan15_indexes]\n",
    "\n",
    "# find the directors' names having more than 3 movies\n",
    "saveDirectorMoreThan15 = []\n",
    "for item in moreThan15_indexes:\n",
    "    temp = (list(uniqueDirectorName)[item])\n",
    "    saveDirectorMoreThan15.append(temp)\n",
    "    \n",
    "# find the mean imdb score of each director\n",
    "saveMeanImdb15 = []\n",
    "for item in saveDirectorMoreThan15:\n",
    "    temp = [i for i,x in enumerate(listDirectors) if x == item]\n",
    "    imdbsDirector = numpy.array(df.imdb_score[temp])\n",
    "    temp2 = numpy.NaN if numpy.all(imdbsDirector!=imdbsDirector) else numpy.nanmean(imdbsDirector) # avoid nans\n",
    "    saveMeanImdb15.append(temp2)\n",
    "# print insights\n",
    "print('The best directors are: ')\n",
    "print(saveDirectorMoreThan15)\n",
    "print('# of movies per director (respectively): ')\n",
    "print(moreThan15)\n",
    "print('Mean IMDB score (respectively): ')\n",
    "print(numpy.around(saveMeanImdb15,decimals=2))"
   ]
  },
  {
   "cell_type": "markdown",
   "metadata": {},
   "source": [
    "Try to predict the IMDB score (response) according to all given predictors via a classic regression decision tree (since data is not categorical).\n",
    "Many different classifires and predictors' transformatins may be examined, in order to achieve the model with the best accuracy. \n",
    "\n",
    "Predictors are: duration, # voted users, # critic for reviews, movie facebook likes, budget, gross and year"
   ]
  },
  {
   "cell_type": "code",
   "execution_count": 128,
   "metadata": {},
   "outputs": [],
   "source": [
    "import sklearn\n",
    "from sklearn.preprocessing import Imputer\n",
    "\n",
    "# copy 'data' so we can manipulate it\n",
    "data2 = data.copy() \n",
    "# remove all rows that their IMDB score (response) is nan\n",
    "data2 = data2[pandas.notnull(data2['imdb_score'])]\n",
    "\n",
    "# replace all nan values by the averaged value of the predictor (to keep the data). \n",
    "## other strategies such as median should be examined\n",
    "imputer = Imputer(missing_values='NaN',strategy='mean',axis=0)\n",
    "## fit -caculates means, transform -adds them instead of nans\n",
    "df2 = pandas.DataFrame(data2)\n",
    "df2[['duration','num_voted_users','num_critic_for_reviews','movie_facebook_likes','budget','gross','title_year']] = imputer.fit_transform(df2[['duration','num_voted_users','num_critic_for_reviews','movie_facebook_likes','budget','gross','title_year']])\n",
    "df2.head() # present 5 first rows\n",
    "\n",
    "predictors = df2[['duration','num_voted_users','num_critic_for_reviews','movie_facebook_likes','budget','gross','title_year']]"
   ]
  },
  {
   "cell_type": "code",
   "execution_count": 129,
   "metadata": {},
   "outputs": [],
   "source": [
    "# train model on all data, for example\n",
    "# in order to achieve reliable insights there are two options:\n",
    "## a random spliting of the data in order to present 'training' and 'test' sets\n",
    "## few-folds cross-validation in order to validate the model\n",
    "from sklearn import tree\n",
    "X = numpy.array([predictors.values])[0]\n",
    "Y = numpy.array([df2['imdb_score'].values])[0]\n",
    "# a regressor tree\n",
    "clf = tree.DecisionTreeRegressor()\n",
    "clf = clf.fit(X,Y)"
   ]
  }
 ],
 "metadata": {
  "kernelspec": {
   "display_name": "Python 3",
   "language": "python",
   "name": "python3"
  },
  "language_info": {
   "codemirror_mode": {
    "name": "ipython",
    "version": 3
   },
   "file_extension": ".py",
   "mimetype": "text/x-python",
   "name": "python",
   "nbconvert_exporter": "python",
   "pygments_lexer": "ipython3",
   "version": "3.6.1"
  }
 },
 "nbformat": 4,
 "nbformat_minor": 2
}
